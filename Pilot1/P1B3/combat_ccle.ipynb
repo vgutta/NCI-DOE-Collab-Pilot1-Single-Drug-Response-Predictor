{
 "cells": [
  {
   "cell_type": "code",
   "execution_count": 1,
   "id": "7eea0af5",
   "metadata": {},
   "outputs": [
    {
     "name": "stderr",
     "output_type": "stream",
     "text": [
      "Using TensorFlow backend.\n"
     ]
    },
    {
     "name": "stdout",
     "output_type": "stream",
     "text": [
      "Importing candle utils for keras\n"
     ]
    }
   ],
   "source": [
    "\"\"\"Multilayer Perceptron for drug response problem\"\"\"\n",
    "\n",
    "from __future__ import division, print_function\n",
    "\n",
    "import argparse\n",
    "import csv\n",
    "import logging\n",
    "import sys\n",
    "import json\n",
    "\n",
    "import numpy as np\n",
    "\n",
    "from keras import backend as K\n",
    "from keras import metrics\n",
    "from keras.models import Sequential, load_model\n",
    "from sklearn.metrics import r2_score\n",
    "from keras.layers import Activation, BatchNormalization, Dense, Dropout, LocallyConnected1D, Conv1D, MaxPooling1D, Flatten, Conv2D, LocallyConnected2D\n",
    "from keras.callbacks import Callback, ModelCheckpoint, ProgbarLogger\n",
    "\n",
    "# For non-interactive plotting\n",
    "import matplotlib as mpl\n",
    "mpl.use('Agg')\n",
    "import matplotlib.pyplot as plt\n",
    "\n",
    "\n",
    "import p1b3_combat_ccle as benchmark\n",
    "import candle\n",
    "\n",
    "sys.argv = [''] # for Jupyter nbs\n",
    "\n",
    "#cfg = K.tf.ConfigProto(gpu_options={'allow_growth': True})\n",
    "#K.set_session(K.tf.Session(config=cfg))"
   ]
  },
  {
   "cell_type": "code",
   "execution_count": 2,
   "id": "d581f955",
   "metadata": {},
   "outputs": [
    {
     "data": {
      "text/plain": [
       "['/job:localhost/replica:0/task:0/device:GPU:0']"
      ]
     },
     "execution_count": 2,
     "metadata": {},
     "output_type": "execute_result"
    }
   ],
   "source": [
    "import keras\n",
    "\n",
    "keras.__version__\n",
    "\n",
    "K.tensorflow_backend._get_available_gpus()"
   ]
  },
  {
   "cell_type": "code",
   "execution_count": 3,
   "id": "8d1c552e",
   "metadata": {},
   "outputs": [],
   "source": [
    "def initialize_parameters(default_model = 'p1b3_default_model.txt'):\n",
    "    \n",
    "    # Build benchmark object\n",
    "    p1b3Bmk = benchmark.BenchmarkP1B3(benchmark.file_path, default_model, 'keras',\n",
    "    prog='p1b3_baseline', desc='Multi-task (DNN) for data extraction from clinical reports - Pilot 3 Benchmark 1')\n",
    "    \n",
    "    \n",
    "    # Initialize parameters\n",
    "    gParameters = candle.finalize_parameters(p1b3Bmk)\n",
    "    #benchmark.logger.info('Params: {}'.format(gParameters))\n",
    "\n",
    "    return gParameters\n",
    "\n",
    "def str2lst(string_val):\n",
    "    result = [int(x) for x in string_val.split(' ')]\n",
    "    return result\n",
    "\n",
    "\n",
    "def evaluate_keras_metric(y_true, y_pred, metric):\n",
    "    #objective_function = metrics.get(metric)\n",
    "    objective_function = metrics.RootMeanSquaredError()\n",
    "    objective = objective_function(y_true, y_pred)\n",
    "    return K.eval(objective)\n",
    "\n",
    "\n",
    "def evaluate_model(model, generator, steps, metric, category_cutoffs=[0.]):\n",
    "    y_true, y_pred = None, None\n",
    "    count = 0\n",
    "    while count < steps:\n",
    "        x_batch, y_batch = next(generator)\n",
    "        y_batch_pred = model.predict_on_batch(x_batch)\n",
    "        y_batch_pred = y_batch_pred.ravel()\n",
    "        y_true = np.concatenate((y_true, y_batch)) if y_true is not None else y_batch\n",
    "        y_pred = np.concatenate((y_pred, y_batch_pred)) if y_pred is not None else y_batch_pred\n",
    "        count += 1\n",
    "\n",
    "    loss = evaluate_keras_metric(y_true.astype(np.float32), y_pred.astype(np.float32), metric)\n",
    "\n",
    "    y_true_class = np.digitize(y_true, category_cutoffs)\n",
    "    y_pred_class = np.digitize(y_pred, category_cutoffs)\n",
    "\n",
    "    # theano does not like integer input\n",
    "    acc = evaluate_keras_metric(y_true_class.astype(np.float32), y_pred_class.astype(np.float32), 'binary_accuracy')  # works for multiclass labels as well\n",
    "\n",
    "    return loss, acc, y_true, y_pred, y_true_class, y_pred_class\n",
    "\n",
    "\n",
    "def plot_error(y_true, y_pred, batch, file_ext, file_pre='output_dir', subsample=1000):\n",
    "    if batch % 10:\n",
    "        return\n",
    "\n",
    "    total = len(y_true)\n",
    "    if subsample and subsample < total:\n",
    "        usecols = np.random.choice(total, size=subsample, replace=False)\n",
    "        y_true = y_true[usecols]\n",
    "        y_pred = y_pred[usecols]\n",
    "\n",
    "    y_true = y_true * 100\n",
    "    y_pred = y_pred * 100\n",
    "    diffs = y_pred - y_true\n",
    "\n",
    "    bins = np.linspace(-200, 200, 100)\n",
    "    if batch == 0:\n",
    "        y_shuf = np.random.permutation(y_true)\n",
    "        plt.hist(y_shuf - y_true, bins, alpha=0.5, label='Random')\n",
    "\n",
    "    #plt.hist(diffs, bins, alpha=0.35-batch/100., label='Epoch {}'.format(batch+1))\n",
    "    plt.hist(diffs, bins, alpha=0.3, label='Epoch {}'.format(batch+1))\n",
    "    plt.title(\"Histogram of errors in percentage growth\")\n",
    "    plt.legend(loc='upper right')\n",
    "    plt.savefig(file_pre+'.histogram'+file_ext+'.b'+str(batch)+'.png')\n",
    "    plt.close()\n",
    "\n",
    "    # Plot measured vs. predicted values\n",
    "    fig, ax = plt.subplots()\n",
    "    plt.grid('on')\n",
    "    ax.scatter(y_true, y_pred, color='red', s=10)\n",
    "    ax.plot([y_true.min(), y_true.max()],\n",
    "            [y_true.min(), y_true.max()], 'k--', lw=4)\n",
    "    ax.set_xlabel('Measured')\n",
    "    ax.set_ylabel('Predicted')\n",
    "    plt.savefig(file_pre+'.diff'+file_ext+'.b'+str(batch)+'.png')\n",
    "    plt.close()"
   ]
  },
  {
   "cell_type": "code",
   "execution_count": 4,
   "id": "e029dcff",
   "metadata": {},
   "outputs": [],
   "source": [
    "class MyLossHistory(Callback):\n",
    "    def __init__(self, progbar, val_gen, test_gen, val_steps, test_steps, metric, category_cutoffs=[0.], ext='', pre='save'):\n",
    "        super(MyLossHistory, self).__init__()\n",
    "        self.progbar = progbar\n",
    "        self.val_gen = val_gen\n",
    "        self.test_gen = test_gen\n",
    "        self.val_steps = val_steps\n",
    "        self.test_steps = test_steps\n",
    "        self.metric = metric\n",
    "        self.category_cutoffs = category_cutoffs\n",
    "        self.pre = pre\n",
    "        self.ext = ext\n",
    "\n",
    "    def on_train_begin(self, logs={}):\n",
    "        self.best_val_loss = np.Inf\n",
    "        self.best_val_acc = -np.Inf\n",
    "\n",
    "    def on_epoch_end(self, batch, logs={}):\n",
    "        val_loss, val_acc, y_true, y_pred, y_true_class, y_pred_class = evaluate_model(self.model, self.val_gen, self.val_steps, self.metric, self.category_cutoffs)\n",
    "        test_loss, test_acc, _, _, _, _ = evaluate_model(self.model, self.test_gen, self.test_steps, self.metric, self.category_cutoffs)\n",
    "        self.progbar.append_extra_log_values([('val_acc', val_acc), ('test_loss', test_loss), ('test_acc', test_acc)])\n",
    "        if float(logs.get('val_loss', 0)) < self.best_val_loss:\n",
    "            plot_error(y_true, y_pred, batch, self.ext, self.pre)\n",
    "        self.best_val_loss = min(float(logs.get('val_loss', 0)), self.best_val_loss)\n",
    "        self.best_val_acc = max(float(logs.get('val_acc', 0)), self.best_val_acc)"
   ]
  },
  {
   "cell_type": "code",
   "execution_count": 5,
   "id": "b63aad2b",
   "metadata": {},
   "outputs": [],
   "source": [
    "class MyProgbarLogger(ProgbarLogger):\n",
    "    def __init__(self, samples):\n",
    "        super(MyProgbarLogger, self).__init__(count_mode='samples')\n",
    "        self.samples = samples\n",
    "\n",
    "    def on_train_begin(self, logs=None):\n",
    "        super(MyProgbarLogger, self).on_train_begin(logs)\n",
    "        self.verbose = 1\n",
    "        self.extra_log_values = []\n",
    "        self.params['samples'] = self.samples\n",
    "\n",
    "    def on_batch_begin(self, batch, logs=None):\n",
    "        if self.seen < self.target:\n",
    "            self.log_values = []\n",
    "            self.extra_log_values = []\n",
    "\n",
    "    def append_extra_log_values(self, tuples):\n",
    "        for k, v in tuples:\n",
    "            self.extra_log_values.append((k, v))\n",
    "\n",
    "    def on_epoch_end(self, epoch, logs=None):\n",
    "        logs = logs or {}\n",
    "        epoch_log = 'Epoch {}/{}'.format(epoch + 1, self.epochs)\n",
    "        for k in self.params['metrics']:\n",
    "            if k in logs:\n",
    "                self.log_values.append((k, logs[k]))\n",
    "                epoch_log += ' - {}: {:.4f}'.format(k, logs[k])\n",
    "        for k, v in self.extra_log_values:\n",
    "            self.log_values.append((k, v))\n",
    "            epoch_log += ' - {}: {:.4f}'.format(k, float(v))\n",
    "        if self.verbose:\n",
    "            self.progbar.update(self.seen, self.log_values)\n",
    "        benchmark.logger.debug(epoch_log)"
   ]
  },
  {
   "cell_type": "code",
   "execution_count": 6,
   "id": "211a2772",
   "metadata": {},
   "outputs": [],
   "source": [
    "def add_conv_layer(model, layer_params, input_dim=None, locally_connected=False):\n",
    "    if len(layer_params) == 3: # 1D convolution\n",
    "        filters = layer_params[0]\n",
    "        filter_len = layer_params[1]\n",
    "        stride = layer_params[2]\n",
    "        if locally_connected:\n",
    "            if input_dim:\n",
    "                model.add(LocallyConnected1D(filters, filter_len, strides=stride, input_shape=(input_dim, 1)))\n",
    "            else:\n",
    "                model.add(LocallyConnected1D(filters, filter_len, strides=stride))\n",
    "        else:\n",
    "            if input_dim:\n",
    "                model.add(Conv1D(filters, filter_len, strides=stride, input_shape=(input_dim, 1)))\n",
    "            else:\n",
    "                model.add(Conv1D(filters, filter_len, strides=stride))\n",
    "    elif len(layer_params) == 5: # 2D convolution\n",
    "        filters = layer_params[0]\n",
    "        filter_len = (layer_params[1], layer_params[2])\n",
    "        stride = (layer_params[3], layer_params[4])\n",
    "        if locally_connected:\n",
    "            if input_dim:\n",
    "                model.add(LocallyConnected2D(filters, filter_len, strides=stride, input_shape=(input_dim, 1)))\n",
    "            else:\n",
    "                model.add(LocallyConnected2D(filters, filter_len, strides=stride))\n",
    "        else:\n",
    "            if input_dim:\n",
    "                model.add(Conv2D(filters, filter_len, strides=stride, input_shape=(input_dim, 1)))\n",
    "            else:\n",
    "                model.add(Conv2D(filters, filter_len, strides=stride))\n",
    "    return model"
   ]
  },
  {
   "cell_type": "code",
   "execution_count": 7,
   "id": "310f6f5c",
   "metadata": {},
   "outputs": [
    {
     "name": "stdout",
     "output_type": "stream",
     "text": [
      "Params:\n",
      "{'activation': 'relu',\n",
      " 'batch_normalization': False,\n",
      " 'batch_size': 100,\n",
      " 'category_cutoffs': [0.0],\n",
      " 'cell_features': ['expression'],\n",
      " 'cell_noise_sigma': 0.0,\n",
      " 'data_type': <class 'numpy.float32'>,\n",
      " 'dense': [1000, 500, 100, 50],\n",
      " 'dropout': 0.1,\n",
      " 'drug_features': ['descriptors'],\n",
      " 'epochs': 50,\n",
      " 'experiment_id': 'EXP000',\n",
      " 'feature_subsample': 0,\n",
      " 'initialization': 'normal',\n",
      " 'learning_rate': 0.001,\n",
      " 'logfile': None,\n",
      " 'loss': 'mse',\n",
      " 'max_logconc': -4.0,\n",
      " 'min_logconc': -5.0,\n",
      " 'optimizer': 'sgd',\n",
      " 'output_dir': '/lustre/schandra_crpl/users/2216/NCI-DOE-Collab-Pilot1-Single-Drug-Response-Predictor/Pilot1/P1B3/save/EXP000/RUN000',\n",
      " 'profiling': False,\n",
      " 'rng_seed': 2017,\n",
      " 'run_id': 'RUN000',\n",
      " 'scaling': 'std',\n",
      " 'scramble': False,\n",
      " 'shuffle': False,\n",
      " 'subsample': 'naive_balancing',\n",
      " 'test_cell_split': 0.15,\n",
      " 'timeout': -1,\n",
      " 'train_bool': True,\n",
      " 'val_split': 0.1,\n",
      " 'verbose': None,\n",
      " 'workers': 1}\n"
     ]
    }
   ],
   "source": [
    "gParameters = initialize_parameters()\n",
    "#gParameters['cell_features'] = 'all'\n",
    "#gParameters['drug_features'] = 'all'\n",
    "benchmark.check_params(gParameters)"
   ]
  },
  {
   "cell_type": "code",
   "execution_count": 8,
   "id": "a2641528",
   "metadata": {},
   "outputs": [
    {
     "name": "stderr",
     "output_type": "stream",
     "text": [
      "Params: {'dense': [1000, 500, 100, 50], 'batch_size': 100, 'epochs': 50, 'activation': 'relu', 'loss': 'mse', 'optimizer': 'sgd', 'learning_rate': 0.001, 'scaling': 'std', 'dropout': 0.1, 'feature_subsample': 0, 'val_split': 0.1, 'rng_seed': 2017, 'initialization': 'normal', 'min_logconc': -5.0, 'max_logconc': -4.0, 'category_cutoffs': [0.0], 'test_cell_split': 0.15, 'cell_features': ['expression'], 'drug_features': ['descriptors'], 'subsample': 'naive_balancing', 'batch_normalization': False, 'cell_noise_sigma': 0.0, 'output_dir': '/lustre/schandra_crpl/users/2216/NCI-DOE-Collab-Pilot1-Single-Drug-Response-Predictor/Pilot1/P1B3/save/EXP000/RUN000', 'verbose': None, 'logfile': None, 'train_bool': True, 'experiment_id': 'EXP000', 'run_id': 'RUN000', 'shuffle': False, 'profiling': False, 'scramble': False, 'workers': 1, 'data_type': <class 'numpy.float32'>, 'timeout': -1}\n"
     ]
    },
    {
     "name": "stdout",
     "output_type": "stream",
     "text": [
      "[1000, 500, 100, 50]\n"
     ]
    },
    {
     "name": "stderr",
     "output_type": "stream",
     "text": [
      "Loaded 11670 unique (D, CL) response sets.\n",
      "/lustre/schandra_crpl/users/2216/NCI-DOE-Collab-Pilot1-Single-Drug-Response-Predictor/Pilot1/P1B3/p1b3_combat_ccle.py:403: ParserWarning: Both a converter and dtype were specified for column NAME - only the converter will be used\n",
      "  converters ={'NAME' : str})\n",
      "Distribution of dose response:\n",
      "               AUC\n",
      "count  8851.000000\n",
      "mean      0.777905\n",
      "std       0.163426\n",
      "min       0.122400\n",
      "25%       0.704300\n",
      "50%       0.819800\n",
      "75%       0.896000\n",
      "max       1.000000\n",
      "Category cutoffs: [0.0]\n",
      "Dose response bin counts:\n",
      "  Class 0:       0 (0.0000) - between +0.00 and +0.00\n",
      "  Class 1:    8851 (1.0000) - between +0.00 and +0.01\n",
      "  Total:      8851\n",
      "Rows in train: 7806, val: 867, test: 178\n",
      "Input features shapes:\n",
      "  drug_concentration: (1,)\n",
      "  drug_descriptors: (3837,)\n",
      "  cell_expression: (942,)\n",
      "Total input dimensions: 4779\n"
     ]
    },
    {
     "name": "stdout",
     "output_type": "stream",
     "text": [
      "WARNING:tensorflow:From /home/2216/.conda/envs/Combo/lib/python3.6/site-packages/tensorflow_core/python/ops/resource_variable_ops.py:1630: calling BaseResourceVariable.__init__ (from tensorflow.python.ops.resource_variable_ops) with constraint is deprecated and will be removed in a future version.\n",
      "Instructions for updating:\n",
      "If using Keras pass *_constraint arguments to layers.\n",
      "Model: \"sequential_1\"\n",
      "_________________________________________________________________\n",
      "Layer (type)                 Output Shape              Param #   \n",
      "=================================================================\n",
      "dense_1 (Dense)              (None, 1000)              4780000   \n",
      "_________________________________________________________________\n",
      "activation_1 (Activation)    (None, 1000)              0         \n",
      "_________________________________________________________________\n",
      "dropout_1 (Dropout)          (None, 1000)              0         \n",
      "_________________________________________________________________\n",
      "dense_2 (Dense)              (None, 500)               500500    \n",
      "_________________________________________________________________\n",
      "activation_2 (Activation)    (None, 500)               0         \n",
      "_________________________________________________________________\n",
      "dropout_2 (Dropout)          (None, 500)               0         \n",
      "_________________________________________________________________\n",
      "dense_3 (Dense)              (None, 100)               50100     \n",
      "_________________________________________________________________\n",
      "activation_3 (Activation)    (None, 100)               0         \n",
      "_________________________________________________________________\n",
      "dropout_3 (Dropout)          (None, 100)               0         \n",
      "_________________________________________________________________\n",
      "dense_4 (Dense)              (None, 50)                5050      \n",
      "_________________________________________________________________\n",
      "activation_4 (Activation)    (None, 50)                0         \n",
      "_________________________________________________________________\n",
      "dropout_4 (Dropout)          (None, 50)                0         \n",
      "_________________________________________________________________\n",
      "dense_5 (Dense)              (None, 1)                 51        \n",
      "=================================================================\n",
      "Total params: 5,335,701\n",
      "Trainable params: 5,335,701\n",
      "Non-trainable params: 0\n",
      "_________________________________________________________________\n"
     ]
    }
   ],
   "source": [
    "\"\"\"\n",
    "Runs the model using the specified set of parameters\n",
    "\n",
    "Args:\n",
    "   gParameters: a python dictionary containing the parameters (e.g. epoch)\n",
    "   to run the model with.\n",
    "\"\"\"\n",
    "#\n",
    "if 'dense' in gParameters:\n",
    "    dval = gParameters['dense']\n",
    "    if type(dval) != list:\n",
    "        res = list(dval)\n",
    "    #try:\n",
    "        #is_str = isinstance(dval, basestring)\n",
    "    #except NameError:\n",
    "        #is_str = isinstance(dval, str)\n",
    "    #if is_str:\n",
    "        #res = str2lst(dval)\n",
    "        gParameters['dense'] = res\n",
    "    print(gParameters['dense'])\n",
    "\n",
    "if 'conv' in gParameters:\n",
    "    flat = gParameters['conv']\n",
    "    gParameters['conv'] = [flat[i:i+3] for i in range(0, len(flat), 3)]\n",
    "    #conv_list = p1_common.parse_conv_list(gParameters['conv'])\n",
    "    #cval = gParameters['conv']\n",
    "    #try:\n",
    "    #    is_str = isinstance(cval, basestring)\n",
    "    #except NameError:\n",
    "    #    is_str = isinstance(cval, str)\n",
    "    #if is_str:\n",
    "    #    res = str2lst(cval)\n",
    "    #    gParameters['conv'] = res\n",
    "    print('Conv input', gParameters['conv'])\n",
    "# print('Params:', gParameters)\n",
    "# Construct extension to save model\n",
    "ext = benchmark.extension_from_parameters(gParameters, '.keras')\n",
    "logfile = gParameters['logfile'] if gParameters['logfile'] else gParameters['output_dir']+ext+'.log'\n",
    "\n",
    "fh = logging.FileHandler(logfile)\n",
    "fh.setFormatter(logging.Formatter(\"[%(asctime)s %(process)d] %(message)s\", datefmt=\"%Y-%m-%d %H:%M:%S\"))\n",
    "fh.setLevel(logging.DEBUG)\n",
    "\n",
    "sh = logging.StreamHandler()\n",
    "sh.setFormatter(logging.Formatter(''))\n",
    "sh.setLevel(logging.DEBUG if gParameters['verbose'] else logging.INFO)\n",
    "\n",
    "benchmark.logger.setLevel(logging.DEBUG)\n",
    "benchmark.logger.addHandler(fh)\n",
    "benchmark.logger.addHandler(sh)\n",
    "benchmark.logger.info('Params: {}'.format(gParameters))\n",
    "\n",
    "# Get default parameters for initialization and optimizer functions\n",
    "kerasDefaults = candle.keras_default_config()\n",
    "seed = gParameters['rng_seed']\n",
    "\n",
    "# Build dataset loader object\n",
    "loader = benchmark.DataLoader(seed=seed, dtype=gParameters['data_type'],\n",
    "                         val_split=gParameters['val_split'],\n",
    "                         test_cell_split=gParameters['test_cell_split'],\n",
    "                         cell_features=gParameters['cell_features'],\n",
    "                         drug_features=gParameters['drug_features'],\n",
    "                         feature_subsample=gParameters['feature_subsample'],\n",
    "                         scaling=gParameters['scaling'],\n",
    "                         scramble=gParameters['scramble'],\n",
    "                         min_logconc=gParameters['min_logconc'],\n",
    "                         max_logconc=gParameters['max_logconc'],\n",
    "                         subsample=gParameters['subsample'],\n",
    "                         category_cutoffs=gParameters['category_cutoffs'])\n",
    "\n",
    "# Initialize weights and learning rule\n",
    "initializer_weights = candle.build_initializer(gParameters['initialization'], kerasDefaults, seed)\n",
    "initializer_bias = candle.build_initializer('constant', kerasDefaults, 0.)\n",
    "\n",
    "activation = gParameters['activation']\n",
    "\n",
    "# Define model architecture\n",
    "gen_shape = None\n",
    "out_dim = 1\n",
    "\n",
    "\n",
    "\n",
    "model = Sequential()\n",
    "if 'dense' in gParameters: # Build dense layers\n",
    "    for layer in gParameters['dense']:\n",
    "        if layer:\n",
    "            model.add(Dense(layer, input_dim=loader.input_dim,\n",
    "                        kernel_initializer=initializer_weights,\n",
    "                        bias_initializer=initializer_bias))\n",
    "            if gParameters['batch_normalization']:\n",
    "                model.add(BatchNormalization())\n",
    "            model.add(Activation(gParameters['activation']))\n",
    "            if gParameters['dropout']:\n",
    "                model.add(Dropout(gParameters['dropout']))\n",
    "else: # Build convolutional layers\n",
    "    gen_shape = 'add_1d'\n",
    "    layer_list = list(range(0, len(gParameters['conv'])))\n",
    "    lc_flag=False\n",
    "    if 'locally_connected' in gParameters:\n",
    "        lc_flag = True\n",
    "\n",
    "    for l, i in enumerate(layer_list):\n",
    "        if i == 0:\n",
    "            add_conv_layer(model, gParameters['conv'][i], input_dim=loader.input_dim,locally_connected=lc_flag)\n",
    "        else:\n",
    "            add_conv_layer(model, gParameters['conv'][i],locally_connected=lc_flag)\n",
    "        if gParameters['batch_normalization']:\n",
    "                model.add(BatchNormalization())\n",
    "        model.add(Activation(gParameters['activation']))\n",
    "        if gParameters['pool']:\n",
    "            model.add(MaxPooling1D(pool_size=gParameters['pool']))\n",
    "    model.add(Flatten())\n",
    "\n",
    "model.add(Dense(out_dim))\n",
    "\n",
    "# Define optimizer\n",
    "optimizer = candle.build_optimizer(gParameters['optimizer'],\n",
    "                                        gParameters['learning_rate'],\n",
    "                                        kerasDefaults)\n",
    "\n",
    "# Compile and display model\n",
    "model.compile(loss=gParameters['loss'], optimizer=optimizer)\n",
    "model.summary()\n",
    "benchmark.logger.debug('Model: {}'.format(model.to_json()))\n",
    "\n"
   ]
  },
  {
   "cell_type": "code",
   "execution_count": 9,
   "id": "6bf6baa5",
   "metadata": {},
   "outputs": [],
   "source": [
    "#!pip install keras-tuner -q\n",
    "gParameters['epochs'] = 50"
   ]
  },
  {
   "cell_type": "code",
   "execution_count": 10,
   "id": "9533997e",
   "metadata": {},
   "outputs": [],
   "source": [
    "\n",
    "\n",
    "train_gen = benchmark.DataGenerator(loader, batch_size=gParameters['batch_size'], shape=gen_shape, name='train_gen', cell_noise_sigma=gParameters['cell_noise_sigma']).flow()\n",
    "val_gen = benchmark.DataGenerator(loader, partition='val', batch_size=gParameters['batch_size'], shape=gen_shape, name='val_gen').flow()\n",
    "val_gen2 = benchmark.DataGenerator(loader, partition='val', batch_size=gParameters['batch_size'], shape=gen_shape, name='val_gen2').flow()\n",
    "test_gen = benchmark.DataGenerator(loader, partition='test', batch_size=gParameters['batch_size'], shape=gen_shape, name='test_gen').flow()\n",
    "\n",
    "train_steps = int(loader.n_train/gParameters['batch_size'])\n",
    "val_steps = int(loader.n_val/gParameters['batch_size'])\n",
    "test_steps = int(loader.n_test/gParameters['batch_size'])\n",
    "\n",
    "if 'train_steps' in gParameters:\n",
    "    train_steps = gParameters['train_steps']\n",
    "if 'val_steps' in gParameters:\n",
    "    val_steps = gParameters['val_steps']\n",
    "if 'test_steps' in gParameters:\n",
    "    test_steps = gParameters['test_steps']\n",
    "\n",
    "checkpointer = ModelCheckpoint(filepath=gParameters['output_dir']+'.model'+ext+'.h5', save_best_only=True)\n",
    "progbar = MyProgbarLogger(train_steps * gParameters['batch_size'])\n",
    "loss_history = MyLossHistory(progbar=progbar, val_gen=val_gen2, test_gen=test_gen,\n",
    "                        val_steps=val_steps, test_steps=test_steps,\n",
    "                        metric=gParameters['loss'], category_cutoffs=gParameters['category_cutoffs'],\n",
    "                        ext=ext, pre=gParameters['output_dir'])"
   ]
  },
  {
   "cell_type": "code",
   "execution_count": 11,
   "id": "3d6904eb",
   "metadata": {},
   "outputs": [
    {
     "name": "stdout",
     "output_type": "stream",
     "text": [
      "WARNING:tensorflow:From /home/2216/.conda/envs/Combo/lib/python3.6/site-packages/keras/backend/tensorflow_backend.py:422: The name tf.global_variables is deprecated. Please use tf.compat.v1.global_variables instead.\n",
      "\n",
      "Epoch 1/50\n",
      "7800/7800 [==============================] - 5s 587us/step - loss: 0.1990 - val_loss: 0.0352 - val_acc: 0.6432 - test_loss: 0.1863 - test_acc: 0.5385\n",
      "Epoch 2/50\n",
      "7800/7800 [==============================] - 2s 260us/step - loss: 0.1030 - val_loss: 0.0181 - val_acc: 0.6557 - test_loss: 0.1668 - test_acc: 0.5916\n",
      "Epoch 3/50\n",
      "7800/7800 [==============================] - 2s 253us/step - loss: 0.0744 - val_loss: 0.0195 - val_acc: 0.6736 - test_loss: 0.1509 - test_acc: 0.5745\n",
      "Epoch 4/50\n",
      "7800/7800 [==============================] - 2s 268us/step - loss: 0.0580 - val_loss: 0.0140 - val_acc: 0.6586 - test_loss: 0.1393 - test_acc: 0.5568\n",
      "Epoch 5/50\n",
      "7800/7800 [==============================] - 2s 267us/step - loss: 0.0486 - val_loss: 0.0122 - val_acc: 0.6624 - test_loss: 0.1292 - test_acc: 0.5385\n",
      "Epoch 6/50\n",
      "7800/7800 [==============================] - 2s 277us/step - loss: 0.0417 - val_loss: 0.0103 - val_acc: 0.6661 - test_loss: 0.1392 - test_acc: 0.5657\n",
      "Epoch 7/50\n",
      "7800/7800 [==============================] - 2s 270us/step - loss: 0.0369 - val_loss: 0.0108 - val_acc: 0.6671 - test_loss: 0.1217 - test_acc: 0.5385\n",
      "Epoch 8/50\n",
      "7800/7800 [==============================] - 2s 277us/step - loss: 0.0325 - val_loss: 0.0101 - val_acc: 0.6699 - test_loss: 0.1291 - test_acc: 0.6245\n",
      "Epoch 9/50\n",
      "7800/7800 [==============================] - 2s 267us/step - loss: 0.0291 - val_loss: 0.0105 - val_acc: 0.6847 - test_loss: 0.1152 - test_acc: 0.5477\n",
      "Epoch 10/50\n",
      "7800/7800 [==============================] - 2s 287us/step - loss: 0.0273 - val_loss: 0.0070 - val_acc: 0.6661 - test_loss: 0.1161 - test_acc: 0.5916\n",
      "Epoch 11/50\n",
      "7800/7800 [==============================] - 2s 279us/step - loss: 0.0246 - val_loss: 0.0077 - val_acc: 0.6699 - test_loss: 0.1101 - test_acc: 0.5657\n",
      "Epoch 12/50\n",
      "7800/7800 [==============================] - 2s 293us/step - loss: 0.0223 - val_loss: 0.0054 - val_acc: 0.6727 - test_loss: 0.1075 - test_acc: 0.6000\n",
      "Epoch 13/50\n",
      "7800/7800 [==============================] - 2s 290us/step - loss: 0.0201 - val_loss: 0.0058 - val_acc: 0.6643 - test_loss: 0.1023 - test_acc: 0.6000\n",
      "Epoch 14/50\n",
      "7800/7800 [==============================] - 2s 291us/step - loss: 0.0190 - val_loss: 0.0056 - val_acc: 0.6755 - test_loss: 0.0913 - test_acc: 0.5385\n",
      "Epoch 15/50\n",
      "7800/7800 [==============================] - 2s 308us/step - loss: 0.0178 - val_loss: 0.0044 - val_acc: 0.6764 - test_loss: 0.1006 - test_acc: 0.6403\n",
      "Epoch 16/50\n",
      "7800/7800 [==============================] - 2s 312us/step - loss: 0.0168 - val_loss: 0.0030 - val_acc: 0.6901 - test_loss: 0.0913 - test_acc: 0.5292\n",
      "Epoch 17/50\n",
      "7800/7800 [==============================] - 2s 307us/step - loss: 0.0156 - val_loss: 0.0034 - val_acc: 0.6828 - test_loss: 0.0859 - test_acc: 0.6083\n",
      "Epoch 18/50\n",
      "7800/7800 [==============================] - 2s 308us/step - loss: 0.0152 - val_loss: 0.0036 - val_acc: 0.6991 - test_loss: 0.0851 - test_acc: 0.5657\n",
      "Epoch 19/50\n",
      "7800/7800 [==============================] - 2s 312us/step - loss: 0.0137 - val_loss: 0.0031 - val_acc: 0.6874 - test_loss: 0.0856 - test_acc: 0.6083\n",
      "Epoch 20/50\n",
      "7800/7800 [==============================] - 2s 318us/step - loss: 0.0131 - val_loss: 0.0036 - val_acc: 0.6819 - test_loss: 0.0777 - test_acc: 0.5745\n",
      "Epoch 21/50\n",
      "7800/7800 [==============================] - 2s 320us/step - loss: 0.0119 - val_loss: 0.0035 - val_acc: 0.6910 - test_loss: 0.0767 - test_acc: 0.5745\n",
      "Epoch 22/50\n",
      "7800/7800 [==============================] - 3s 328us/step - loss: 0.0117 - val_loss: 0.0035 - val_acc: 0.6919 - test_loss: 0.0771 - test_acc: 0.6000\n",
      "Epoch 23/50\n",
      "7800/7800 [==============================] - 3s 331us/step - loss: 0.0106 - val_loss: 0.0031 - val_acc: 0.6745 - test_loss: 0.0651 - test_acc: 0.5745\n",
      "Epoch 24/50\n",
      "7800/7800 [==============================] - 3s 334us/step - loss: 0.0107 - val_loss: 0.0034 - val_acc: 0.6856 - test_loss: 0.0746 - test_acc: 0.6245\n",
      "Epoch 25/50\n",
      "7800/7800 [==============================] - 3s 348us/step - loss: 0.0095 - val_loss: 0.0023 - val_acc: 0.6874 - test_loss: 0.0679 - test_acc: 0.5831\n",
      "Epoch 26/50\n",
      "7800/7800 [==============================] - 3s 344us/step - loss: 0.0093 - val_loss: 0.0023 - val_acc: 0.6773 - test_loss: 0.0670 - test_acc: 0.6325\n",
      "Epoch 27/50\n",
      "7800/7800 [==============================] - 3s 360us/step - loss: 0.0087 - val_loss: 0.0022 - val_acc: 0.6782 - test_loss: 0.0651 - test_acc: 0.6083\n",
      "Epoch 28/50\n",
      "7800/7800 [==============================] - 3s 356us/step - loss: 0.0085 - val_loss: 0.0019 - val_acc: 0.6699 - test_loss: 0.0635 - test_acc: 0.6245\n",
      "Epoch 29/50\n",
      "7800/7800 [==============================] - 3s 364us/step - loss: 0.0081 - val_loss: 0.0019 - val_acc: 0.6661 - test_loss: 0.0605 - test_acc: 0.6403\n",
      "Epoch 30/50\n",
      "7800/7800 [==============================] - 3s 368us/step - loss: 0.0078 - val_loss: 0.0013 - val_acc: 0.6661 - test_loss: 0.0560 - test_acc: 0.6000\n",
      "Epoch 31/50\n",
      "7800/7800 [==============================] - 3s 362us/step - loss: 0.0076 - val_loss: 0.0016 - val_acc: 0.6718 - test_loss: 0.0594 - test_acc: 0.6481\n",
      "Epoch 32/50\n",
      "7800/7800 [==============================] - 3s 364us/step - loss: 0.0071 - val_loss: 0.0017 - val_acc: 0.6708 - test_loss: 0.0543 - test_acc: 0.6164\n",
      "Epoch 33/50\n",
      "7800/7800 [==============================] - 3s 368us/step - loss: 0.0068 - val_loss: 0.0018 - val_acc: 0.6782 - test_loss: 0.0563 - test_acc: 0.6481\n",
      "Epoch 34/50\n",
      "7800/7800 [==============================] - 3s 373us/step - loss: 0.0066 - val_loss: 0.0017 - val_acc: 0.6708 - test_loss: 0.0526 - test_acc: 0.6325\n",
      "Epoch 35/50\n",
      "7800/7800 [==============================] - 3s 380us/step - loss: 0.0062 - val_loss: 0.0019 - val_acc: 0.6745 - test_loss: 0.0544 - test_acc: 0.6164\n",
      "Epoch 36/50\n",
      "7800/7800 [==============================] - 3s 378us/step - loss: 0.0059 - val_loss: 0.0016 - val_acc: 0.6624 - test_loss: 0.0490 - test_acc: 0.6245\n",
      "Epoch 37/50\n",
      "7800/7800 [==============================] - 3s 384us/step - loss: 0.0057 - val_loss: 0.0018 - val_acc: 0.6671 - test_loss: 0.0493 - test_acc: 0.6083\n",
      "Epoch 38/50\n",
      "7800/7800 [==============================] - 3s 403us/step - loss: 0.0057 - val_loss: 0.0013 - val_acc: 0.6680 - test_loss: 0.0474 - test_acc: 0.6481\n",
      "Epoch 39/50\n",
      "7800/7800 [==============================] - 3s 414us/step - loss: 0.0053 - val_loss: 0.0011 - val_acc: 0.6680 - test_loss: 0.0435 - test_acc: 0.6325\n",
      "Epoch 40/50\n",
      "7800/7800 [==============================] - 3s 413us/step - loss: 0.0052 - val_loss: 0.0010 - val_acc: 0.6699 - test_loss: 0.0482 - test_acc: 0.6557\n",
      "Epoch 41/50\n",
      "7800/7800 [==============================] - 4s 490us/step - loss: 0.0049 - val_loss: 0.0010 - val_acc: 0.6548 - test_loss: 0.0449 - test_acc: 0.6164\n",
      "Epoch 42/50\n",
      "7800/7800 [==============================] - 3s 420us/step - loss: 0.0049 - val_loss: 0.0010 - val_acc: 0.6471 - test_loss: 0.0443 - test_acc: 0.6083\n",
      "Epoch 43/50\n",
      "7800/7800 [==============================] - 3s 428us/step - loss: 0.0047 - val_loss: 8.3186e-04 - val_acc: 0.6519 - test_loss: 0.0409 - test_acc: 0.6325\n",
      "Epoch 44/50\n",
      "7800/7800 [==============================] - 3s 429us/step - loss: 0.0044 - val_loss: 7.3162e-04 - val_acc: 0.6548 - test_loss: 0.0414 - test_acc: 0.6000\n",
      "Epoch 45/50\n",
      "7800/7800 [==============================] - 3s 421us/step - loss: 0.0044 - val_loss: 9.3380e-04 - val_acc: 0.6576 - test_loss: 0.0400 - test_acc: 0.6557\n",
      "Epoch 46/50\n",
      "7800/7800 [==============================] - 3s 428us/step - loss: 0.0042 - val_loss: 9.8956e-04 - val_acc: 0.6538 - test_loss: 0.0371 - test_acc: 0.5657\n",
      "Epoch 47/50\n",
      "7800/7800 [==============================] - 3s 432us/step - loss: 0.0039 - val_loss: 9.0483e-04 - val_acc: 0.6519 - test_loss: 0.0395 - test_acc: 0.6403\n",
      "Epoch 48/50\n",
      "7800/7800 [==============================] - 3s 436us/step - loss: 0.0039 - val_loss: 0.0010 - val_acc: 0.6403 - test_loss: 0.0366 - test_acc: 0.6164\n",
      "Epoch 49/50\n",
      "7800/7800 [==============================] - 3s 444us/step - loss: 0.0037 - val_loss: 9.7119e-04 - val_acc: 0.6393 - test_loss: 0.0373 - test_acc: 0.6325\n",
      "Epoch 50/50\n"
     ]
    },
    {
     "name": "stdout",
     "output_type": "stream",
     "text": [
      "7800/7800 [==============================] - 3s 440us/step - loss: 0.0038 - val_loss: 9.2393e-04 - val_acc: 0.6374 - test_loss: 0.0350 - test_acc: 0.6325\n"
     ]
    }
   ],
   "source": [
    "# Seed random generator for training\n",
    "np.random.seed(seed)\n",
    "\n",
    "candleRemoteMonitor = candle.CandleRemoteMonitor(params=gParameters)\n",
    "\n",
    "history = model.fit_generator(train_gen, train_steps,\n",
    "                    epochs=gParameters['epochs'],\n",
    "                    validation_data=val_gen,\n",
    "                    validation_steps=val_steps,\n",
    "                    verbose=0,\n",
    "                    callbacks=[checkpointer, loss_history, progbar, candleRemoteMonitor],\n",
    "                    )\n",
    "\n",
    "benchmark.logger.removeHandler(fh)\n",
    "benchmark.logger.removeHandler(sh)"
   ]
  },
  {
   "cell_type": "code",
   "execution_count": null,
   "id": "7f7d6d5f",
   "metadata": {},
   "outputs": [],
   "source": [
    "model.save('./save/250epochs.h5')\n",
    "\n",
    "def rmse(y_true, y_pred):\n",
    "    return K.sqrt(mean_squared_error(y_true, y_pred))\n",
    "\n",
    "\n",
    "# Load the saved model from file\n",
    "#loaded_model = load_model('./save/EXP000/RUN000.model.keras.A=relu.B=100.D=0.1.E=50.N=0.0.D1=1000.D2=500.D3=100.D4=50.S=std.h5')\n",
    "loaded_model = load_model('./save/250epochs.h5')\n",
    "#loaded_model.compile(loss=gParameters['loss'], optimizer=optimizer, metrics=[rmse])\n",
    "\n",
    "\n",
    "# Evaluate the loaded model on test data\n",
    "test_loss, test_acc = loaded_model.evaluate(val_test, val_auc)\n",
    "\n",
    "print(test_loss, test_accuracy)"
   ]
  },
  {
   "cell_type": "code",
   "execution_count": 12,
   "id": "924ffb23",
   "metadata": {},
   "outputs": [
    {
     "data": {
      "text/html": [
       "<div>\n",
       "<style scoped>\n",
       "    .dataframe tbody tr th:only-of-type {\n",
       "        vertical-align: middle;\n",
       "    }\n",
       "\n",
       "    .dataframe tbody tr th {\n",
       "        vertical-align: top;\n",
       "    }\n",
       "\n",
       "    .dataframe thead th {\n",
       "        text-align: right;\n",
       "    }\n",
       "</style>\n",
       "<table border=\"1\" class=\"dataframe\">\n",
       "  <thead>\n",
       "    <tr style=\"text-align: right;\">\n",
       "      <th></th>\n",
       "      <th>Unnamed: 0</th>\n",
       "      <th>celline</th>\n",
       "      <th>DRUG</th>\n",
       "      <th>AUC</th>\n",
       "      <th>MW</th>\n",
       "      <th>AMW</th>\n",
       "      <th>Sv</th>\n",
       "      <th>Se</th>\n",
       "      <th>Sp</th>\n",
       "      <th>Si</th>\n",
       "      <th>...</th>\n",
       "      <th>ZNF131</th>\n",
       "      <th>ZNF274</th>\n",
       "      <th>ZNF318</th>\n",
       "      <th>ZNF395</th>\n",
       "      <th>ZNF451</th>\n",
       "      <th>ZNF586</th>\n",
       "      <th>ZNF589</th>\n",
       "      <th>ZW10</th>\n",
       "      <th>drug_encoded</th>\n",
       "      <th>celline_encoded</th>\n",
       "    </tr>\n",
       "  </thead>\n",
       "  <tbody>\n",
       "    <tr>\n",
       "      <th>0</th>\n",
       "      <td>92</td>\n",
       "      <td>CCLE.697</td>\n",
       "      <td>CCLE.1</td>\n",
       "      <td>0.7692</td>\n",
       "      <td>439.61</td>\n",
       "      <td>7.090</td>\n",
       "      <td>39.143</td>\n",
       "      <td>61.440</td>\n",
       "      <td>41.620</td>\n",
       "      <td>69.683</td>\n",
       "      <td>...</td>\n",
       "      <td>2.047</td>\n",
       "      <td>-0.9717</td>\n",
       "      <td>2.723</td>\n",
       "      <td>2.46</td>\n",
       "      <td>2.078</td>\n",
       "      <td>1.812</td>\n",
       "      <td>1.619</td>\n",
       "      <td>2.334</td>\n",
       "      <td>0</td>\n",
       "      <td>4</td>\n",
       "    </tr>\n",
       "    <tr>\n",
       "      <th>1</th>\n",
       "      <td>93</td>\n",
       "      <td>CCLE.697</td>\n",
       "      <td>CCLE.10</td>\n",
       "      <td>0.7777</td>\n",
       "      <td>475.40</td>\n",
       "      <td>8.804</td>\n",
       "      <td>34.718</td>\n",
       "      <td>54.523</td>\n",
       "      <td>36.597</td>\n",
       "      <td>61.160</td>\n",
       "      <td>...</td>\n",
       "      <td>2.047</td>\n",
       "      <td>-0.9717</td>\n",
       "      <td>2.723</td>\n",
       "      <td>2.46</td>\n",
       "      <td>2.078</td>\n",
       "      <td>1.812</td>\n",
       "      <td>1.619</td>\n",
       "      <td>2.334</td>\n",
       "      <td>1</td>\n",
       "      <td>4</td>\n",
       "    </tr>\n",
       "    <tr>\n",
       "      <th>2</th>\n",
       "      <td>94</td>\n",
       "      <td>CCLE.697</td>\n",
       "      <td>CCLE.11</td>\n",
       "      <td>0.3723</td>\n",
       "      <td>349.47</td>\n",
       "      <td>7.132</td>\n",
       "      <td>30.762</td>\n",
       "      <td>48.796</td>\n",
       "      <td>32.540</td>\n",
       "      <td>55.066</td>\n",
       "      <td>...</td>\n",
       "      <td>2.047</td>\n",
       "      <td>-0.9717</td>\n",
       "      <td>2.723</td>\n",
       "      <td>2.46</td>\n",
       "      <td>2.078</td>\n",
       "      <td>1.812</td>\n",
       "      <td>1.619</td>\n",
       "      <td>2.334</td>\n",
       "      <td>2</td>\n",
       "      <td>4</td>\n",
       "    </tr>\n",
       "    <tr>\n",
       "      <th>3</th>\n",
       "      <td>95</td>\n",
       "      <td>CCLE.697</td>\n",
       "      <td>CCLE.12</td>\n",
       "      <td>0.7869</td>\n",
       "      <td>464.86</td>\n",
       "      <td>9.685</td>\n",
       "      <td>33.422</td>\n",
       "      <td>50.320</td>\n",
       "      <td>33.148</td>\n",
       "      <td>54.906</td>\n",
       "      <td>...</td>\n",
       "      <td>2.047</td>\n",
       "      <td>-0.9717</td>\n",
       "      <td>2.723</td>\n",
       "      <td>2.46</td>\n",
       "      <td>2.078</td>\n",
       "      <td>1.812</td>\n",
       "      <td>1.619</td>\n",
       "      <td>2.334</td>\n",
       "      <td>3</td>\n",
       "      <td>4</td>\n",
       "    </tr>\n",
       "    <tr>\n",
       "      <th>4</th>\n",
       "      <td>96</td>\n",
       "      <td>CCLE.697</td>\n",
       "      <td>CCLE.14</td>\n",
       "      <td>0.4337</td>\n",
       "      <td>421.49</td>\n",
       "      <td>7.805</td>\n",
       "      <td>34.906</td>\n",
       "      <td>54.778</td>\n",
       "      <td>35.904</td>\n",
       "      <td>60.694</td>\n",
       "      <td>...</td>\n",
       "      <td>2.047</td>\n",
       "      <td>-0.9717</td>\n",
       "      <td>2.723</td>\n",
       "      <td>2.46</td>\n",
       "      <td>2.078</td>\n",
       "      <td>1.812</td>\n",
       "      <td>1.619</td>\n",
       "      <td>2.334</td>\n",
       "      <td>5</td>\n",
       "      <td>4</td>\n",
       "    </tr>\n",
       "  </tbody>\n",
       "</table>\n",
       "<p>5 rows × 4785 columns</p>\n",
       "</div>"
      ],
      "text/plain": [
       "   Unnamed: 0   celline     DRUG     AUC      MW    AMW      Sv      Se  \\\n",
       "0          92  CCLE.697   CCLE.1  0.7692  439.61  7.090  39.143  61.440   \n",
       "1          93  CCLE.697  CCLE.10  0.7777  475.40  8.804  34.718  54.523   \n",
       "2          94  CCLE.697  CCLE.11  0.3723  349.47  7.132  30.762  48.796   \n",
       "3          95  CCLE.697  CCLE.12  0.7869  464.86  9.685  33.422  50.320   \n",
       "4          96  CCLE.697  CCLE.14  0.4337  421.49  7.805  34.906  54.778   \n",
       "\n",
       "       Sp      Si  ...  ZNF131  ZNF274  ZNF318  ZNF395  ZNF451  ZNF586  \\\n",
       "0  41.620  69.683  ...   2.047 -0.9717   2.723    2.46   2.078   1.812   \n",
       "1  36.597  61.160  ...   2.047 -0.9717   2.723    2.46   2.078   1.812   \n",
       "2  32.540  55.066  ...   2.047 -0.9717   2.723    2.46   2.078   1.812   \n",
       "3  33.148  54.906  ...   2.047 -0.9717   2.723    2.46   2.078   1.812   \n",
       "4  35.904  60.694  ...   2.047 -0.9717   2.723    2.46   2.078   1.812   \n",
       "\n",
       "   ZNF589   ZW10  drug_encoded  celline_encoded  \n",
       "0   1.619  2.334             0                4  \n",
       "1   1.619  2.334             1                4  \n",
       "2   1.619  2.334             2                4  \n",
       "3   1.619  2.334             3                4  \n",
       "4   1.619  2.334             5                4  \n",
       "\n",
       "[5 rows x 4785 columns]"
      ]
     },
     "execution_count": 12,
     "metadata": {},
     "output_type": "execute_result"
    }
   ],
   "source": [
    "import pandas as pd\n",
    "\n",
    "df_test_cell = pd.read_csv('./data/val_cell.csv')\n",
    "df_test_drug = pd.read_csv('./data/val_drug.csv')\n",
    "\n",
    "val_data = pd.read_csv('./data/val_data.tsv', sep='\\t')\n",
    "val_data.head()"
   ]
  },
  {
   "cell_type": "code",
   "execution_count": 13,
   "id": "d73e6614",
   "metadata": {},
   "outputs": [
    {
     "data": {
      "text/plain": [
       "True"
      ]
     },
     "execution_count": 13,
     "metadata": {},
     "output_type": "execute_result"
    }
   ],
   "source": [
    "val_data.isna().any().any()"
   ]
  },
  {
   "cell_type": "code",
   "execution_count": 14,
   "id": "a1f4e2bd",
   "metadata": {},
   "outputs": [
    {
     "data": {
      "text/plain": [
       "(1088, 4785)"
      ]
     },
     "execution_count": 14,
     "metadata": {},
     "output_type": "execute_result"
    }
   ],
   "source": [
    "val_data.shape"
   ]
  },
  {
   "cell_type": "code",
   "execution_count": 15,
   "id": "5d09f797",
   "metadata": {},
   "outputs": [],
   "source": [
    "val_data = val_data.dropna()"
   ]
  },
  {
   "cell_type": "code",
   "execution_count": 16,
   "id": "e32a4a88",
   "metadata": {},
   "outputs": [],
   "source": [
    "val_auc = val_data['AUC'].to_numpy()\n",
    "val_drugs = val_data['DRUG']\n",
    "\n",
    "val_test = val_data.drop(columns=['celline', 'DRUG', 'AUC', 'celline_encoded', 'drug_encoded', 'Unnamed: 0'])\n",
    "val_test = val_test.to_numpy()"
   ]
  },
  {
   "cell_type": "code",
   "execution_count": 17,
   "id": "69aba6c5",
   "metadata": {},
   "outputs": [
    {
     "data": {
      "text/plain": [
       "(922, 4779)"
      ]
     },
     "execution_count": 17,
     "metadata": {},
     "output_type": "execute_result"
    }
   ],
   "source": [
    "val_test.shape"
   ]
  },
  {
   "cell_type": "code",
   "execution_count": 18,
   "id": "3ed7d4ac",
   "metadata": {},
   "outputs": [
    {
     "data": {
      "text/plain": [
       "(4779,)"
      ]
     },
     "execution_count": 18,
     "metadata": {},
     "output_type": "execute_result"
    }
   ],
   "source": [
    "val_test[0].shape"
   ]
  },
  {
   "cell_type": "code",
   "execution_count": 19,
   "id": "64f0f13c",
   "metadata": {},
   "outputs": [
    {
     "name": "stdout",
     "output_type": "stream",
     "text": [
      "922/922 [==============================] - 0s 69us/step\n"
     ]
    },
    {
     "ename": "TypeError",
     "evalue": "'float' object is not iterable",
     "output_type": "error",
     "traceback": [
      "\u001b[0;31m---------------------------------------------------------------------------\u001b[0m",
      "\u001b[0;31mTypeError\u001b[0m                                 Traceback (most recent call last)",
      "\u001b[0;32m<ipython-input-19-e8cb9be1ef35>\u001b[0m in \u001b[0;36m<module>\u001b[0;34m()\u001b[0m\n\u001b[0;32m----> 1\u001b[0;31m \u001b[0mloss\u001b[0m\u001b[0;34m,\u001b[0m \u001b[0maccuracy\u001b[0m \u001b[0;34m=\u001b[0m \u001b[0mmodel\u001b[0m\u001b[0;34m.\u001b[0m\u001b[0mevaluate\u001b[0m\u001b[0;34m(\u001b[0m\u001b[0mval_test\u001b[0m\u001b[0;34m,\u001b[0m \u001b[0mval_auc\u001b[0m\u001b[0;34m)\u001b[0m\u001b[0;34m\u001b[0m\u001b[0;34m\u001b[0m\u001b[0m\n\u001b[0m",
      "\u001b[0;31mTypeError\u001b[0m: 'float' object is not iterable"
     ]
    }
   ],
   "source": [
    "loss, accuracy = model.evaluate(val_test, val_auc)"
   ]
  },
  {
   "cell_type": "code",
   "execution_count": 20,
   "id": "f24d0406",
   "metadata": {},
   "outputs": [
    {
     "ename": "NameError",
     "evalue": "name 'loss' is not defined",
     "output_type": "error",
     "traceback": [
      "\u001b[0;31m---------------------------------------------------------------------------\u001b[0m",
      "\u001b[0;31mNameError\u001b[0m                                 Traceback (most recent call last)",
      "\u001b[0;32m<ipython-input-20-e2e528d24a7a>\u001b[0m in \u001b[0;36m<module>\u001b[0;34m()\u001b[0m\n\u001b[0;32m----> 1\u001b[0;31m \u001b[0mprint\u001b[0m\u001b[0;34m(\u001b[0m\u001b[0mloss\u001b[0m\u001b[0;34m,\u001b[0m \u001b[0maccuracy\u001b[0m\u001b[0;34m)\u001b[0m\u001b[0;34m\u001b[0m\u001b[0;34m\u001b[0m\u001b[0m\n\u001b[0m",
      "\u001b[0;31mNameError\u001b[0m: name 'loss' is not defined"
     ]
    }
   ],
   "source": [
    "print(loss, accuracy)"
   ]
  },
  {
   "cell_type": "code",
   "execution_count": 21,
   "id": "820555fe",
   "metadata": {},
   "outputs": [
    {
     "name": "stdout",
     "output_type": "stream",
     "text": [
      "R-squared:  -137377.3369100109\n"
     ]
    }
   ],
   "source": [
    "y_pred = model.predict(val_test)\n",
    "r_squared = r2_score(val_auc, y_pred)\n",
    "print(\"R-squared: \", r_squared)"
   ]
  },
  {
   "cell_type": "code",
   "execution_count": null,
   "id": "4f8b5b9c",
   "metadata": {},
   "outputs": [],
   "source": []
  },
  {
   "cell_type": "code",
   "execution_count": null,
   "id": "231f3ae8",
   "metadata": {},
   "outputs": [],
   "source": []
  },
  {
   "cell_type": "code",
   "execution_count": null,
   "id": "278a8177",
   "metadata": {},
   "outputs": [],
   "source": []
  },
  {
   "cell_type": "code",
   "execution_count": null,
   "id": "be9856f9",
   "metadata": {},
   "outputs": [],
   "source": []
  },
  {
   "cell_type": "code",
   "execution_count": null,
   "id": "167bd09b",
   "metadata": {},
   "outputs": [],
   "source": []
  },
  {
   "cell_type": "code",
   "execution_count": 11,
   "id": "bca42ea4",
   "metadata": {},
   "outputs": [],
   "source": [
    "from itertools import cycle, islice"
   ]
  },
  {
   "cell_type": "code",
   "execution_count": 12,
   "id": "31826a66",
   "metadata": {},
   "outputs": [
    {
     "data": {
      "text/plain": [
       "range(0, 7806)"
      ]
     },
     "execution_count": 12,
     "metadata": {},
     "output_type": "execute_result"
    }
   ],
   "source": [
    "range(loader.n_train)"
   ]
  },
  {
   "cell_type": "code",
   "execution_count": 13,
   "id": "cfbcd7a0",
   "metadata": {},
   "outputs": [
    {
     "data": {
      "text/plain": [
       "range(7806, 8673)"
      ]
     },
     "execution_count": 13,
     "metadata": {},
     "output_type": "execute_result"
    }
   ],
   "source": [
    "range(loader.total)[-loader.n_val:]"
   ]
  },
  {
   "cell_type": "code",
   "execution_count": 14,
   "id": "701f142a",
   "metadata": {},
   "outputs": [
    {
     "data": {
      "text/plain": [
       "range(8673, 8851)"
      ]
     },
     "execution_count": 14,
     "metadata": {},
     "output_type": "execute_result"
    }
   ],
   "source": [
    "range(loader.total, loader.total + loader.n_test)"
   ]
  },
  {
   "cell_type": "code",
   "execution_count": 23,
   "id": "a11ba5aa",
   "metadata": {},
   "outputs": [
    {
     "data": {
      "text/plain": [
       "(7806, 945)"
      ]
     },
     "execution_count": 23,
     "metadata": {},
     "output_type": "execute_result"
    }
   ],
   "source": [
    "## train\n",
    "train_cycle = cycle(range(loader.n_train))\n",
    "train_indices = list(islice(train_cycle, loader.n_train))\n",
    "df_train = loader.df_response.iloc[train_indices, :]\n",
    "df_train = df_train.merge(loader.df_cell_expr, on='CELLNAME')\n",
    "df_train.shape"
   ]
  },
  {
   "cell_type": "code",
   "execution_count": 24,
   "id": "fd13fac6",
   "metadata": {},
   "outputs": [
    {
     "data": {
      "text/plain": [
       "(867, 945)"
      ]
     },
     "execution_count": 24,
     "metadata": {},
     "output_type": "execute_result"
    }
   ],
   "source": [
    "## val\n",
    "val_cycle = cycle(range(loader.total)[-loader.n_val:])\n",
    "val_indices = list(islice(val_cycle, loader.n_val))\n",
    "df_val = loader.df_response.iloc[val_indices, :]\n",
    "df_val = df_val.merge(loader.df_cell_expr, on='CELLNAME')\n",
    "df_val.shape"
   ]
  },
  {
   "cell_type": "code",
   "execution_count": 25,
   "id": "52516d4b",
   "metadata": {},
   "outputs": [
    {
     "data": {
      "text/plain": [
       "(178, 945)"
      ]
     },
     "execution_count": 25,
     "metadata": {},
     "output_type": "execute_result"
    }
   ],
   "source": [
    "## test\n",
    "test_cycle = cycle(range(loader.total, loader.total + loader.n_test))\n",
    "test_indices = list(islice(test_cycle, loader.n_test))\n",
    "df_test = loader.df_response.iloc[test_indices, :]\n",
    "df_test = df_test.merge(loader.df_cell_expr, on='CELLNAME')\n",
    "df_test.shape"
   ]
  },
  {
   "cell_type": "code",
   "execution_count": 30,
   "id": "668f5570",
   "metadata": {},
   "outputs": [
    {
     "data": {
      "text/html": [
       "<div>\n",
       "<style scoped>\n",
       "    .dataframe tbody tr th:only-of-type {\n",
       "        vertical-align: middle;\n",
       "    }\n",
       "\n",
       "    .dataframe tbody tr th {\n",
       "        vertical-align: top;\n",
       "    }\n",
       "\n",
       "    .dataframe thead th {\n",
       "        text-align: right;\n",
       "    }\n",
       "</style>\n",
       "<table border=\"1\" class=\"dataframe\">\n",
       "  <thead>\n",
       "    <tr style=\"text-align: right;\">\n",
       "      <th></th>\n",
       "      <th>CCLE</th>\n",
       "      <th>CELLNAME</th>\n",
       "      <th>AUC</th>\n",
       "      <th>AARS</th>\n",
       "      <th>ABCB6</th>\n",
       "      <th>ABCC5</th>\n",
       "      <th>ABCF1</th>\n",
       "      <th>ABCF3</th>\n",
       "      <th>ABHD4</th>\n",
       "      <th>ABHD6</th>\n",
       "      <th>...</th>\n",
       "      <th>ZMIZ1</th>\n",
       "      <th>ZMYM2</th>\n",
       "      <th>ZNF131</th>\n",
       "      <th>ZNF274</th>\n",
       "      <th>ZNF318</th>\n",
       "      <th>ZNF395</th>\n",
       "      <th>ZNF451</th>\n",
       "      <th>ZNF586</th>\n",
       "      <th>ZNF589</th>\n",
       "      <th>ZW10</th>\n",
       "    </tr>\n",
       "  </thead>\n",
       "  <tbody>\n",
       "  </tbody>\n",
       "</table>\n",
       "<p>0 rows × 945 columns</p>\n",
       "</div>"
      ],
      "text/plain": [
       "Empty DataFrame\n",
       "Columns: [CCLE, CELLNAME, AUC, AARS, ABCB6, ABCC5, ABCF1, ABCF3, ABHD4, ABHD6, ABL1, ACAA1, ACAT2, ACBD3, ACD, ACLY, ACOT9, ADAM10, ADAT1, ADH5, ADI1, ADO, ADRB2, AGL, AKAP8, AKAP8L, AKR7A2, AKT1, ALAS1, ALDH7A1, ALDOA, ALDOC, AMDHD2, ANKRD10, ANO10, ANXA7, APBB2, APOE, APP, APPBP2, ARFIP2, ARHGAP1, ARHGEF12, ARHGEF2, ARID4B, ARID5B, ARL4C, ARNT2, ARPP19, ASAH1, ASCC3, ATF1, ATF5, ATF6, ATG3, ATMIN, ATP11B, ATP1B1, ATP2C1, ATP5S, ATP6V0B, ATP6V1D, AURKA, AURKB, AXIN1, BACE2, BAD, BAG3, BAMBI, BAX, BCL2, BCL7B, BDH1, BECN1, BHLHE40, BID, BIRC2, BIRC5, BLCAP, BLMH, BLVRA, BMP4, BNIP3, BNIP3L, BPHL, BRCA1, BTK, BUB1B, BZW2, C2CD2, C2CD2L, C2CD5, C5, CAB39, CALM3, CALU, CAMSAP2, CANT1, CAPN1, CASC3, ...]\n",
       "Index: []\n",
       "\n",
       "[0 rows x 945 columns]"
      ]
     },
     "execution_count": 30,
     "metadata": {},
     "output_type": "execute_result"
    }
   ],
   "source": [
    "df_train.merge(df_val, how='inner')"
   ]
  },
  {
   "cell_type": "code",
   "execution_count": 31,
   "id": "164b43c1",
   "metadata": {},
   "outputs": [
    {
     "data": {
      "text/html": [
       "<div>\n",
       "<style scoped>\n",
       "    .dataframe tbody tr th:only-of-type {\n",
       "        vertical-align: middle;\n",
       "    }\n",
       "\n",
       "    .dataframe tbody tr th {\n",
       "        vertical-align: top;\n",
       "    }\n",
       "\n",
       "    .dataframe thead th {\n",
       "        text-align: right;\n",
       "    }\n",
       "</style>\n",
       "<table border=\"1\" class=\"dataframe\">\n",
       "  <thead>\n",
       "    <tr style=\"text-align: right;\">\n",
       "      <th></th>\n",
       "      <th>CCLE</th>\n",
       "      <th>CELLNAME</th>\n",
       "      <th>AUC</th>\n",
       "      <th>AARS</th>\n",
       "      <th>ABCB6</th>\n",
       "      <th>ABCC5</th>\n",
       "      <th>ABCF1</th>\n",
       "      <th>ABCF3</th>\n",
       "      <th>ABHD4</th>\n",
       "      <th>ABHD6</th>\n",
       "      <th>...</th>\n",
       "      <th>ZMIZ1</th>\n",
       "      <th>ZMYM2</th>\n",
       "      <th>ZNF131</th>\n",
       "      <th>ZNF274</th>\n",
       "      <th>ZNF318</th>\n",
       "      <th>ZNF395</th>\n",
       "      <th>ZNF451</th>\n",
       "      <th>ZNF586</th>\n",
       "      <th>ZNF589</th>\n",
       "      <th>ZW10</th>\n",
       "    </tr>\n",
       "  </thead>\n",
       "  <tbody>\n",
       "  </tbody>\n",
       "</table>\n",
       "<p>0 rows × 945 columns</p>\n",
       "</div>"
      ],
      "text/plain": [
       "Empty DataFrame\n",
       "Columns: [CCLE, CELLNAME, AUC, AARS, ABCB6, ABCC5, ABCF1, ABCF3, ABHD4, ABHD6, ABL1, ACAA1, ACAT2, ACBD3, ACD, ACLY, ACOT9, ADAM10, ADAT1, ADH5, ADI1, ADO, ADRB2, AGL, AKAP8, AKAP8L, AKR7A2, AKT1, ALAS1, ALDH7A1, ALDOA, ALDOC, AMDHD2, ANKRD10, ANO10, ANXA7, APBB2, APOE, APP, APPBP2, ARFIP2, ARHGAP1, ARHGEF12, ARHGEF2, ARID4B, ARID5B, ARL4C, ARNT2, ARPP19, ASAH1, ASCC3, ATF1, ATF5, ATF6, ATG3, ATMIN, ATP11B, ATP1B1, ATP2C1, ATP5S, ATP6V0B, ATP6V1D, AURKA, AURKB, AXIN1, BACE2, BAD, BAG3, BAMBI, BAX, BCL2, BCL7B, BDH1, BECN1, BHLHE40, BID, BIRC2, BIRC5, BLCAP, BLMH, BLVRA, BMP4, BNIP3, BNIP3L, BPHL, BRCA1, BTK, BUB1B, BZW2, C2CD2, C2CD2L, C2CD5, C5, CAB39, CALM3, CALU, CAMSAP2, CANT1, CAPN1, CASC3, ...]\n",
       "Index: []\n",
       "\n",
       "[0 rows x 945 columns]"
      ]
     },
     "execution_count": 31,
     "metadata": {},
     "output_type": "execute_result"
    }
   ],
   "source": [
    "df_train.merge(df_test, how='inner')"
   ]
  },
  {
   "cell_type": "code",
   "execution_count": 32,
   "id": "4e9e852b",
   "metadata": {},
   "outputs": [
    {
     "data": {
      "text/html": [
       "<div>\n",
       "<style scoped>\n",
       "    .dataframe tbody tr th:only-of-type {\n",
       "        vertical-align: middle;\n",
       "    }\n",
       "\n",
       "    .dataframe tbody tr th {\n",
       "        vertical-align: top;\n",
       "    }\n",
       "\n",
       "    .dataframe thead th {\n",
       "        text-align: right;\n",
       "    }\n",
       "</style>\n",
       "<table border=\"1\" class=\"dataframe\">\n",
       "  <thead>\n",
       "    <tr style=\"text-align: right;\">\n",
       "      <th></th>\n",
       "      <th>CCLE</th>\n",
       "      <th>CELLNAME</th>\n",
       "      <th>AUC</th>\n",
       "      <th>AARS</th>\n",
       "      <th>ABCB6</th>\n",
       "      <th>ABCC5</th>\n",
       "      <th>ABCF1</th>\n",
       "      <th>ABCF3</th>\n",
       "      <th>ABHD4</th>\n",
       "      <th>ABHD6</th>\n",
       "      <th>...</th>\n",
       "      <th>ZMIZ1</th>\n",
       "      <th>ZMYM2</th>\n",
       "      <th>ZNF131</th>\n",
       "      <th>ZNF274</th>\n",
       "      <th>ZNF318</th>\n",
       "      <th>ZNF395</th>\n",
       "      <th>ZNF451</th>\n",
       "      <th>ZNF586</th>\n",
       "      <th>ZNF589</th>\n",
       "      <th>ZW10</th>\n",
       "    </tr>\n",
       "  </thead>\n",
       "  <tbody>\n",
       "  </tbody>\n",
       "</table>\n",
       "<p>0 rows × 945 columns</p>\n",
       "</div>"
      ],
      "text/plain": [
       "Empty DataFrame\n",
       "Columns: [CCLE, CELLNAME, AUC, AARS, ABCB6, ABCC5, ABCF1, ABCF3, ABHD4, ABHD6, ABL1, ACAA1, ACAT2, ACBD3, ACD, ACLY, ACOT9, ADAM10, ADAT1, ADH5, ADI1, ADO, ADRB2, AGL, AKAP8, AKAP8L, AKR7A2, AKT1, ALAS1, ALDH7A1, ALDOA, ALDOC, AMDHD2, ANKRD10, ANO10, ANXA7, APBB2, APOE, APP, APPBP2, ARFIP2, ARHGAP1, ARHGEF12, ARHGEF2, ARID4B, ARID5B, ARL4C, ARNT2, ARPP19, ASAH1, ASCC3, ATF1, ATF5, ATF6, ATG3, ATMIN, ATP11B, ATP1B1, ATP2C1, ATP5S, ATP6V0B, ATP6V1D, AURKA, AURKB, AXIN1, BACE2, BAD, BAG3, BAMBI, BAX, BCL2, BCL7B, BDH1, BECN1, BHLHE40, BID, BIRC2, BIRC5, BLCAP, BLMH, BLVRA, BMP4, BNIP3, BNIP3L, BPHL, BRCA1, BTK, BUB1B, BZW2, C2CD2, C2CD2L, C2CD5, C5, CAB39, CALM3, CALU, CAMSAP2, CANT1, CAPN1, CASC3, ...]\n",
       "Index: []\n",
       "\n",
       "[0 rows x 945 columns]"
      ]
     },
     "execution_count": 32,
     "metadata": {},
     "output_type": "execute_result"
    }
   ],
   "source": [
    "df_val.merge(df_test, how='inner')"
   ]
  },
  {
   "cell_type": "code",
   "execution_count": null,
   "id": "b2887fd8",
   "metadata": {},
   "outputs": [],
   "source": []
  },
  {
   "cell_type": "code",
   "execution_count": 16,
   "id": "1fdce313",
   "metadata": {},
   "outputs": [
    {
     "data": {
      "text/html": [
       "<div>\n",
       "<style scoped>\n",
       "    .dataframe tbody tr th:only-of-type {\n",
       "        vertical-align: middle;\n",
       "    }\n",
       "\n",
       "    .dataframe tbody tr th {\n",
       "        vertical-align: top;\n",
       "    }\n",
       "\n",
       "    .dataframe thead th {\n",
       "        text-align: right;\n",
       "    }\n",
       "</style>\n",
       "<table border=\"1\" class=\"dataframe\">\n",
       "  <thead>\n",
       "    <tr style=\"text-align: right;\">\n",
       "      <th></th>\n",
       "      <th>CCLE</th>\n",
       "      <th>CELLNAME</th>\n",
       "      <th>AUC</th>\n",
       "    </tr>\n",
       "  </thead>\n",
       "  <tbody>\n",
       "    <tr>\n",
       "      <th>0</th>\n",
       "      <td>CCLE.16</td>\n",
       "      <td>CCLE.FU97</td>\n",
       "      <td>0.7314</td>\n",
       "    </tr>\n",
       "    <tr>\n",
       "      <th>1</th>\n",
       "      <td>CCLE.5</td>\n",
       "      <td>CCLE.TEN</td>\n",
       "      <td>0.9186</td>\n",
       "    </tr>\n",
       "    <tr>\n",
       "      <th>2</th>\n",
       "      <td>CCLE.17</td>\n",
       "      <td>CCLE.MCF7</td>\n",
       "      <td>0.7775</td>\n",
       "    </tr>\n",
       "    <tr>\n",
       "      <th>3</th>\n",
       "      <td>CCLE.4</td>\n",
       "      <td>CCLE.FADU</td>\n",
       "      <td>0.8808</td>\n",
       "    </tr>\n",
       "    <tr>\n",
       "      <th>4</th>\n",
       "      <td>CCLE.3</td>\n",
       "      <td>CCLE.KCL22</td>\n",
       "      <td>0.5282</td>\n",
       "    </tr>\n",
       "  </tbody>\n",
       "</table>\n",
       "</div>"
      ],
      "text/plain": [
       "      CCLE    CELLNAME     AUC\n",
       "0  CCLE.16   CCLE.FU97  0.7314\n",
       "1   CCLE.5    CCLE.TEN  0.9186\n",
       "2  CCLE.17   CCLE.MCF7  0.7775\n",
       "3   CCLE.4   CCLE.FADU  0.8808\n",
       "4   CCLE.3  CCLE.KCL22  0.5282"
      ]
     },
     "execution_count": 16,
     "metadata": {},
     "output_type": "execute_result"
    }
   ],
   "source": [
    "all_data = loader.df_response\n",
    "#all_data = pd.merge(all_data, loader.df_cell_expr, on='CELLNAME')\n",
    "#all_data = all_data.merge(loader.df_drug_desc_ccle, on='CCLE')\n",
    "all_data.head()"
   ]
  },
  {
   "cell_type": "code",
   "execution_count": 17,
   "id": "f646e8d3",
   "metadata": {},
   "outputs": [
    {
     "data": {
      "text/plain": [
       "(8851, 3)"
      ]
     },
     "execution_count": 17,
     "metadata": {},
     "output_type": "execute_result"
    }
   ],
   "source": [
    "all_data.shape"
   ]
  },
  {
   "cell_type": "code",
   "execution_count": 21,
   "id": "5a5cb5fb",
   "metadata": {},
   "outputs": [
    {
     "data": {
      "text/plain": [
       "(8851, 3)"
      ]
     },
     "execution_count": 21,
     "metadata": {},
     "output_type": "execute_result"
    }
   ],
   "source": [
    "val_data = all_data[~all_data['CELLNAME'].isin(df_test_cell)]\n",
    "val_data.shape"
   ]
  },
  {
   "cell_type": "code",
   "execution_count": 22,
   "id": "dddc3b0f",
   "metadata": {},
   "outputs": [
    {
     "data": {
      "text/html": [
       "<div>\n",
       "<style scoped>\n",
       "    .dataframe tbody tr th:only-of-type {\n",
       "        vertical-align: middle;\n",
       "    }\n",
       "\n",
       "    .dataframe tbody tr th {\n",
       "        vertical-align: top;\n",
       "    }\n",
       "\n",
       "    .dataframe thead th {\n",
       "        text-align: right;\n",
       "    }\n",
       "</style>\n",
       "<table border=\"1\" class=\"dataframe\">\n",
       "  <thead>\n",
       "    <tr style=\"text-align: right;\">\n",
       "      <th></th>\n",
       "      <th>CCLE</th>\n",
       "      <th>CELLNAME</th>\n",
       "      <th>AUC</th>\n",
       "    </tr>\n",
       "  </thead>\n",
       "  <tbody>\n",
       "    <tr>\n",
       "      <th>0</th>\n",
       "      <td>CCLE.16</td>\n",
       "      <td>CCLE.FU97</td>\n",
       "      <td>0.7314</td>\n",
       "    </tr>\n",
       "    <tr>\n",
       "      <th>1</th>\n",
       "      <td>CCLE.5</td>\n",
       "      <td>CCLE.TEN</td>\n",
       "      <td>0.9186</td>\n",
       "    </tr>\n",
       "    <tr>\n",
       "      <th>2</th>\n",
       "      <td>CCLE.17</td>\n",
       "      <td>CCLE.MCF7</td>\n",
       "      <td>0.7775</td>\n",
       "    </tr>\n",
       "    <tr>\n",
       "      <th>3</th>\n",
       "      <td>CCLE.4</td>\n",
       "      <td>CCLE.FADU</td>\n",
       "      <td>0.8808</td>\n",
       "    </tr>\n",
       "    <tr>\n",
       "      <th>4</th>\n",
       "      <td>CCLE.3</td>\n",
       "      <td>CCLE.KCL22</td>\n",
       "      <td>0.5282</td>\n",
       "    </tr>\n",
       "    <tr>\n",
       "      <th>...</th>\n",
       "      <td>...</td>\n",
       "      <td>...</td>\n",
       "      <td>...</td>\n",
       "    </tr>\n",
       "    <tr>\n",
       "      <th>8846</th>\n",
       "      <td>CCLE.2</td>\n",
       "      <td>CCLE.HEC251</td>\n",
       "      <td>0.8361</td>\n",
       "    </tr>\n",
       "    <tr>\n",
       "      <th>8847</th>\n",
       "      <td>CCLE.19</td>\n",
       "      <td>CCLE.NCIH1563</td>\n",
       "      <td>0.9414</td>\n",
       "    </tr>\n",
       "    <tr>\n",
       "      <th>8848</th>\n",
       "      <td>CCLE.2</td>\n",
       "      <td>CCLE.HUCCT1</td>\n",
       "      <td>0.8620</td>\n",
       "    </tr>\n",
       "    <tr>\n",
       "      <th>8849</th>\n",
       "      <td>CCLE.19</td>\n",
       "      <td>CCLE.COLO320</td>\n",
       "      <td>0.9527</td>\n",
       "    </tr>\n",
       "    <tr>\n",
       "      <th>8850</th>\n",
       "      <td>CCLE.19</td>\n",
       "      <td>CCLE.SNU16</td>\n",
       "      <td>0.9395</td>\n",
       "    </tr>\n",
       "  </tbody>\n",
       "</table>\n",
       "<p>8851 rows × 3 columns</p>\n",
       "</div>"
      ],
      "text/plain": [
       "         CCLE       CELLNAME     AUC\n",
       "0     CCLE.16      CCLE.FU97  0.7314\n",
       "1      CCLE.5       CCLE.TEN  0.9186\n",
       "2     CCLE.17      CCLE.MCF7  0.7775\n",
       "3      CCLE.4      CCLE.FADU  0.8808\n",
       "4      CCLE.3     CCLE.KCL22  0.5282\n",
       "...       ...            ...     ...\n",
       "8846   CCLE.2    CCLE.HEC251  0.8361\n",
       "8847  CCLE.19  CCLE.NCIH1563  0.9414\n",
       "8848   CCLE.2    CCLE.HUCCT1  0.8620\n",
       "8849  CCLE.19   CCLE.COLO320  0.9527\n",
       "8850  CCLE.19     CCLE.SNU16  0.9395\n",
       "\n",
       "[8851 rows x 3 columns]"
      ]
     },
     "execution_count": 22,
     "metadata": {},
     "output_type": "execute_result"
    }
   ],
   "source": [
    "val_data"
   ]
  },
  {
   "cell_type": "code",
   "execution_count": 20,
   "id": "ba071421",
   "metadata": {},
   "outputs": [
    {
     "data": {
      "text/plain": [
       "0.11806575528188905"
      ]
     },
     "execution_count": 20,
     "metadata": {},
     "output_type": "execute_result"
    }
   ],
   "source": [
    "(8851-7806)/8851"
   ]
  },
  {
   "cell_type": "code",
   "execution_count": 23,
   "id": "a180f2d6",
   "metadata": {},
   "outputs": [
    {
     "data": {
      "text/plain": [
       "7806"
      ]
     },
     "execution_count": 23,
     "metadata": {},
     "output_type": "execute_result"
    }
   ],
   "source": [
    "loader.n_train"
   ]
  },
  {
   "cell_type": "code",
   "execution_count": 24,
   "id": "3e7f0558",
   "metadata": {},
   "outputs": [
    {
     "data": {
      "text/plain": [
       "867"
      ]
     },
     "execution_count": 24,
     "metadata": {},
     "output_type": "execute_result"
    }
   ],
   "source": [
    "loader.n_val"
   ]
  },
  {
   "cell_type": "code",
   "execution_count": 25,
   "id": "be80af28",
   "metadata": {},
   "outputs": [
    {
     "data": {
      "text/plain": [
       "178"
      ]
     },
     "execution_count": 25,
     "metadata": {},
     "output_type": "execute_result"
    }
   ],
   "source": [
    "loader.n_test"
   ]
  },
  {
   "cell_type": "code",
   "execution_count": 26,
   "id": "dc031160",
   "metadata": {},
   "outputs": [
    {
     "data": {
      "text/plain": [
       "8951"
      ]
     },
     "execution_count": 26,
     "metadata": {},
     "output_type": "execute_result"
    }
   ],
   "source": [
    "7806+967+178"
   ]
  },
  {
   "cell_type": "code",
   "execution_count": null,
   "id": "a301ef2f",
   "metadata": {},
   "outputs": [],
   "source": []
  }
 ],
 "metadata": {
  "kernelspec": {
   "display_name": "Python [conda env:.conda-Combo] *",
   "language": "python",
   "name": "conda-env-.conda-Combo-py"
  },
  "language_info": {
   "codemirror_mode": {
    "name": "ipython",
    "version": 3
   },
   "file_extension": ".py",
   "mimetype": "text/x-python",
   "name": "python",
   "nbconvert_exporter": "python",
   "pygments_lexer": "ipython3",
   "version": "3.6.13"
  }
 },
 "nbformat": 4,
 "nbformat_minor": 5
}
